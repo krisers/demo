{
 "cells": [
  {
   "cell_type": "code",
   "execution_count": 31,
   "metadata": {},
   "outputs": [],
   "source": [
    "import numpy as np\n",
    "import pandas as pd\n",
    "from pickle import load,dump\n",
    "from nltk.tokenize import word_tokenize\n",
    "# import gensim.downloader as api\n",
    "# from gensim.matutils import softcossim\n",
    "# from gensim import corpora"
   ]
  },
  {
   "cell_type": "code",
   "execution_count": 7,
   "metadata": {},
   "outputs": [
    {
     "data": {
      "text/html": [
       "<div>\n",
       "<style scoped>\n",
       "    .dataframe tbody tr th:only-of-type {\n",
       "        vertical-align: middle;\n",
       "    }\n",
       "\n",
       "    .dataframe tbody tr th {\n",
       "        vertical-align: top;\n",
       "    }\n",
       "\n",
       "    .dataframe thead th {\n",
       "        text-align: right;\n",
       "    }\n",
       "</style>\n",
       "<table border=\"1\" class=\"dataframe\">\n",
       "  <thead>\n",
       "    <tr style=\"text-align: right;\">\n",
       "      <th></th>\n",
       "      <th>Unique ID</th>\n",
       "      <th>Parent</th>\n",
       "      <th>Name</th>\n",
       "      <th>Tier 1</th>\n",
       "      <th>Tier 2</th>\n",
       "      <th>Tier 3</th>\n",
       "      <th>Tier 4</th>\n",
       "      <th>Unnamed: 7</th>\n",
       "    </tr>\n",
       "  </thead>\n",
       "  <tbody>\n",
       "    <tr>\n",
       "      <th>0</th>\n",
       "      <td>150</td>\n",
       "      <td>150</td>\n",
       "      <td>Attractions</td>\n",
       "      <td>Attractions</td>\n",
       "      <td>NaN</td>\n",
       "      <td>NaN</td>\n",
       "      <td>NaN</td>\n",
       "      <td>NaN</td>\n",
       "    </tr>\n",
       "    <tr>\n",
       "      <th>1</th>\n",
       "      <td>151</td>\n",
       "      <td>150</td>\n",
       "      <td>Amusement and Theme Parks</td>\n",
       "      <td>Attractions</td>\n",
       "      <td>Amusement and Theme Parks</td>\n",
       "      <td>NaN</td>\n",
       "      <td>NaN</td>\n",
       "      <td>NaN</td>\n",
       "    </tr>\n",
       "    <tr>\n",
       "      <th>2</th>\n",
       "      <td>179</td>\n",
       "      <td>150</td>\n",
       "      <td>Bars &amp; Restaurants</td>\n",
       "      <td>Attractions</td>\n",
       "      <td>Bars &amp; Restaurants</td>\n",
       "      <td>NaN</td>\n",
       "      <td>NaN</td>\n",
       "      <td>NaN</td>\n",
       "    </tr>\n",
       "    <tr>\n",
       "      <th>3</th>\n",
       "      <td>181</td>\n",
       "      <td>150</td>\n",
       "      <td>Casinos &amp; Gambling</td>\n",
       "      <td>Attractions</td>\n",
       "      <td>Casinos &amp; Gambling</td>\n",
       "      <td>NaN</td>\n",
       "      <td>NaN</td>\n",
       "      <td>NaN</td>\n",
       "    </tr>\n",
       "    <tr>\n",
       "      <th>4</th>\n",
       "      <td>153</td>\n",
       "      <td>150</td>\n",
       "      <td>Historic Site and Landmark Tours</td>\n",
       "      <td>Attractions</td>\n",
       "      <td>Historic Site and Landmark Tours</td>\n",
       "      <td>NaN</td>\n",
       "      <td>NaN</td>\n",
       "      <td>NaN</td>\n",
       "    </tr>\n",
       "  </tbody>\n",
       "</table>\n",
       "</div>"
      ],
      "text/plain": [
       "  Unique ID Parent                              Name       Tier 1  \\\n",
       "0       150    150                       Attractions  Attractions   \n",
       "1       151    150         Amusement and Theme Parks  Attractions   \n",
       "2       179    150                Bars & Restaurants  Attractions   \n",
       "3       181    150                Casinos & Gambling  Attractions   \n",
       "4       153    150  Historic Site and Landmark Tours  Attractions   \n",
       "\n",
       "                             Tier 2 Tier 3 Tier 4 Unnamed: 7  \n",
       "0                               NaN    NaN    NaN        NaN  \n",
       "1         Amusement and Theme Parks    NaN    NaN        NaN  \n",
       "2                Bars & Restaurants    NaN    NaN        NaN  \n",
       "3                Casinos & Gambling    NaN    NaN        NaN  \n",
       "4  Historic Site and Landmark Tours    NaN    NaN        NaN  "
      ]
     },
     "execution_count": 7,
     "metadata": {},
     "output_type": "execute_result"
    }
   ],
   "source": [
    "df = pd.read_csv('taxonomy.tsv', sep='\\t')\n",
    "df.head()"
   ]
  },
  {
   "cell_type": "code",
   "execution_count": 10,
   "metadata": {},
   "outputs": [],
   "source": [
    "tier0=df['Name']\n",
    "tier1=df['Tier 1']\n",
    "tier2=df['Tier 2']\n",
    "tier3=df['Tier 3']\n",
    "tier4=df['Tier 4']\n",
    "tier5=df['Unnamed: 7']\n"
   ]
  },
  {
   "cell_type": "code",
   "execution_count": 16,
   "metadata": {},
   "outputs": [
    {
     "name": "stdout",
     "output_type": "stream",
     "text": [
      "Tier 0:\t703\n",
      "Tier 1:\t40\n",
      "Tier 2:\t347\n",
      "Tier 3:\t256\n",
      "Tier 4:\t60\n"
     ]
    }
   ],
   "source": [
    "print(f'Tier 0:\\t{tier0.nunique()}')\n",
    "print(f'Tier 1:\\t{tier1.nunique()}')\n",
    "print(f'Tier 2:\\t{tier2.nunique()}')\n",
    "print(f'Tier 3:\\t{tier3.nunique()}')\n",
    "print(f'Tier 4:\\t{tier4.nunique()}')"
   ]
  },
  {
   "cell_type": "code",
   "execution_count": 17,
   "metadata": {},
   "outputs": [
    {
     "data": {
      "text/plain": [
       "array(['Attractions', 'Automotive', 'Books and Literature',\n",
       "       'Business and Finance', 'Careers', 'Communication', 'Crime',\n",
       "       'Disasters', 'Education', 'Entertainment', 'Events',\n",
       "       'Family and Relationships', 'Fine Art', 'Food & Drink', 'Genres',\n",
       "       'Healthy Living', 'Hobbies & Interests', 'Holidays',\n",
       "       'Home & Garden', 'Law', 'Maps & Navigation', 'Medical Health',\n",
       "       'Music', 'Personal Celebrations & Life Events', 'Personal Finance',\n",
       "       'Pets', 'Politics', 'Pop Culture', 'Productivity', 'Real Estate',\n",
       "       'Religion & Spirituality', 'Science', 'Sensitive Topics',\n",
       "       'Shopping', 'Sports', 'Style & Fashion', 'Technology & Computing',\n",
       "       'Travel', 'Video Gaming', 'War and Conflicts'], dtype=object)"
      ]
     },
     "execution_count": 17,
     "metadata": {},
     "output_type": "execute_result"
    }
   ],
   "source": [
    "tier1.unique()"
   ]
  },
  {
   "cell_type": "code",
   "execution_count": 18,
   "metadata": {},
   "outputs": [
    {
     "data": {
      "text/plain": [
       "array([nan, 'Angel Investment', 'Bankruptcy', 'Business Loans',\n",
       "       'Debt Factoring & Invoice Discounting', 'Mergers and Acquisitions',\n",
       "       'Private Equity', 'Sale & Lease Back', 'Venture Capital',\n",
       "       'Recalls', 'Professional School', 'Herbs and Supplements',\n",
       "       'Holistic Health', 'Hormonal Disorders', 'Menopause',\n",
       "       'Thyroid Disorders', 'First Aid', 'Birth Control', 'Infertility',\n",
       "       'Pregnancy', 'Sexual Conditions', \"Men's Jewelry and Watches\",\n",
       "       \"Men's Business Wear\", \"Men's Casual Wear\", \"Men's Formal Wear\",\n",
       "       \"Men's Outerwear\", \"Men's Sportswear\",\n",
       "       \"Men's Underwear and Sleepwear\", \"Women's Glasses\",\n",
       "       \"Women's Handbags and Wallets\", \"Women's Hats and Scarves\",\n",
       "       \"Women's Jewelry and Watches\", \"Women's Business Wear\",\n",
       "       \"Women's Casual Wear\", \"Women's Formal Wear\",\n",
       "       \"Women's Intimates and Sleepwear\", \"Women's Outerwear\",\n",
       "       \"Women's Sportswear\", '3-D Graphics', 'Antivirus Software',\n",
       "       'Browsers', 'Computer Animation', 'Databases',\n",
       "       'Desktop Publishing', 'Digital Audio', 'Graphics Software',\n",
       "       'Operating Systems', 'Photo Editing Software',\n",
       "       'Shareware and Freeware', 'Video Software', 'Web Conferencing',\n",
       "       'Cloud Computing', 'Email', 'Internet for Beginners',\n",
       "       'Internet of Things', 'IT and Internet Support', 'Search',\n",
       "       'Social Networking', 'Web Design and HTML', 'Web Development',\n",
       "       'Web Hosting'], dtype=object)"
      ]
     },
     "execution_count": 18,
     "metadata": {},
     "output_type": "execute_result"
    }
   ],
   "source": [
    "tier4.unique()"
   ]
  },
  {
   "cell_type": "code",
   "execution_count": 25,
   "metadata": {},
   "outputs": [
    {
     "name": "stdout",
     "output_type": "stream",
     "text": [
      "2966\n"
     ]
    }
   ],
   "source": [
    "with open('model/word2index.pkl', 'rb') as pickle_file:\n",
    "    word_index_Mapping = load(pickle_file)\n",
    "\n",
    "word_index_Mapping['init'] = len(word_index_Mapping) + 1\n",
    "index_word_Mapping = dict(map(reversed,word_index_Mapping.items()))\n",
    "vocab_size = len(word_index_Mapping) + 1\n",
    "print(vocab_size)\n",
    "max_caption_length = 84"
   ]
  },
  {
   "cell_type": "code",
   "execution_count": 52,
   "metadata": {},
   "outputs": [
    {
     "name": "stdout",
     "output_type": "stream",
     "text": [
      "400000\n",
      "CPU times: total: 17.3 s\n",
      "Wall time: 30.1 s\n"
     ]
    }
   ],
   "source": [
    "%%time\n",
    "#word embedding\n",
    "glove_dir='glove/glove.6B.300d.txt'\n",
    "embeddings_index = {}\n",
    "embeddings_index_all = {}\n",
    "f = open(glove_dir,encoding=\"utf-8\")\n",
    "\n",
    "for line in f:\n",
    "    values = line.split()\n",
    "    word = values[0]\n",
    "    coefs = np.asarray(values[1:],dtype='float32')\n",
    "    embeddings_index_all[word] = coefs\n",
    "\n",
    "    if word in word_index_Mapping.keys():\n",
    "        embeddings_index[word] = coefs\n",
    "\n",
    "f.close()    \n",
    "print(len(list(embeddings_index_all.keys())))\n"
   ]
  },
  {
   "cell_type": "code",
   "execution_count": 27,
   "metadata": {},
   "outputs": [
    {
     "name": "stdout",
     "output_type": "stream",
     "text": [
      "{'startSeq', '<pad>', 'endSeq'}\n",
      "CPU times: total: 0 ns\n",
      "Wall time: 0 ns\n"
     ]
    }
   ],
   "source": [
    "%%time\n",
    "print(set(embeddings_index.keys())^set(word_index_Mapping.keys()))"
   ]
  },
  {
   "cell_type": "code",
   "execution_count": 28,
   "metadata": {},
   "outputs": [
    {
     "name": "stdout",
     "output_type": "stream",
     "text": [
      "{'completing', 'canoe', 'athletic', 'perhaps', 'monkey', 'kayaking', 'Music Video', 'wheelchair', 'shoreline', 'Birth Control', 'consisting', 'photographer', 'silver', 'balancing', 'puck', 'age', 'dish', 'brown', 'watched', 'both', 'lighted', 'outfits', 'backpack', 'plants', 'outside', 'business', 'Classic Hits', 'microphones', 'drink', 'rollerblading', 'furniture', 'fluffy', 'Disasters', 'Auto Racing', 'lasso', 'cruise', 'lit', 'rug', 'Crime & Harmful Acts to Individuals, Society & Human Right Violations', 'team', 'works', 'softball', 'Environment', 'match', 'diver', 'toothbrush', 'eat', 'lake', 'enjoys', 'horns', 'roadway', 'coats', 'Gasoline Prices', 'games', 'appears', 'fur', 'Tennis', 'saw', 'ages', 'handstand', 'cuts', 'cones', 'computer', 'calm', 'possibly', 'surgical', 'dances', 'lunch', 'swimsuit', 'bathtub', 'Mental Health', 'waves', 'Drawing and Sketching', 'upset', 'Business and Finance', 'beach', 'crossing', 'state', 'university', 'pads', 'opposite', 'lot', 'pillar', 'hit', 'paper', 'Bereavement', 'Fitness and Exercise', 'horseback', 'naked', 'wearing', 'story', 'jacket', 'Factual', 'Hate Speech and Acts of Aggression', 'are', 'Executive Leadership & Management', 'birthday', 'natural', 'location', 'vegetable', 'numbers', 'bottom', 'white', 'matching', 'lacrosse', 'awaiting', 'Exercise and Fitness Video Games', 'presents', 'least', 'Special Needs Kids', 'playing', 'monument', 'Office Property', 'slope', 'Console Games', 'stool', 'Pregnancy', 'move', 'protesting', 'cement', 'cleaner', 'colored', 'ties', 'Diving', 'shooting', 'tight', 'Mergers and Acquisitions', 'sliding', 'Science', 'Role-Playing Video Games', 'ponytail', 'deli', 'cyclists', 'right', 'attending', 'dark', 'wrestler', 'aerial', 'licking', 'suburban', 'Spirituality', 'Retirement Planning', 'stuffed', 'training', 'garage', \"Women's Shoes and Footwear\", 'stripe', 'thrown', 'waterfront', 'operates', 'Woodworking', 'Natural and Organic Beauty', 'swimmer', 'over', 'wheels', '3-D Graphics', 'Thyroid Disorders', 'sing', 'breaking', 'turquoise', 'punch', 'filling', 'peak', 'home', 'briefcase', 'paperwork', 'Workshops and Classes', 'Computing', 'beam', 'digs', 'posing', 'Programming Languages', 'monitor', 'stage', 'Celebrity Deaths', 'shades', 'they', 'music', '32', 'boards', 'SUV', 'cash', 'cherry', 'boots', 'pathway', 'teens', 'athlete', 'Station Wagon', 'mini', 'skating', 'daughter', \"Men's Jewelry and Watches\", '24', 'bubbles', 'station', 'taking', 'tag', 'vehicle', 'cheer', 'upon', '17', 'factory', 'silhouetted', 'unusual', 'windows', 'bow', 'draped', 'Debt Factoring & Invoice Discounting', 'dancer', 'hurdle', 'pointing', 'saxophone', 'young', 'elevator', 'shakes', 'Alcoholic Beverages', 'american', 'leggings', 'grocery', 'accident', 'graduation', 'car', 'unknown', 'miami', 'chin', 'fireplace', 'oranges', 'multicolored', 'hitting', 'khakis', 'swims', '6', 'last', 'toe', 'local', 'blurry', 'free', 'stove', 'Motorcycles', 'hair', 'turning', 'waters', 'bicyclists', 'Business Banking & Finance', 'by', 'horse', 'bandanna', 'gathering', 'vehicles', 'numerous', 'army', 'trees', 'as', 'amongst', 'blond', 'Aviation Industry', 'Bachelorette Party', 'Martial Arts', 'terrain', 'visible', 'years', 'individual', 'world', 'beret', 'net', 'scissors', 'repairing', 'Painting', 'helmets', 'marked', 'mess', 'use', 'stilts', 'Technology & Computing', 'traditional', 'Healthy Living', 'form', 'boarding', 'eats', 'statue', \"Women's Accessories\", 'carries', 'Personal Celebrations & Life Events', 'Board Games and Puzzles', 'businessman', 'flies', 'approaches', 'rain', 'Software and Applications', 'crowded', 'faces', 'storefront', 'Costume', 'Makeup and Accessories', 'portrait', 'lounging', 'push', 'costumed', 'stunts', 'Infertility', 'pillars', 'angel', 'kitchen', 'chefs', 'collecting', 'olympic', 'india', 'officer', 'Food Industry', 'clothes', 'blouse', 'hoop', 'riot', 'laughs', 'washes', 'laid', 'long', 'motorcyclists', 'Music', 'College Baseball', 'sweeps', 'huddled', '36', 'badminton', 'model', 'laundry', 'Political Issues & Policy', 'lime', 'run', 'case', 'screen', 'Video Production', 'Parks', 'crosswalk', 'Recalls', 'striped', 'warehouse', 'leg', 'sail', 'Television', 'Strategy Video Games', 'Blood Disorders', 'tray', 'unhappy', 'bundle', 'sweaters', 'sofa', 'socializing', 'barbecue', 'left', 'after', 'traffic', 'goal', 'celebrating', 'whole', 'fingers', 'spiderman', 'Jazz', 'sale', 'drawn', 'flames', 'Track and Field', 'relax', 'going', 'see', 'spoon', 'Primary Education', 'Paranormal Phenomena', 'go', 'starting', 'parking', 'earphones', 'rollerblades', 'Family/Children', 'raises', 'clearing', 'begin', 'snowsuit', 'fireman', 'to', 'tv', 'audience', 'Defense Industry', 'Web Design and HTML', 'terrier', 'build', 'ahead', 'mother', 'Dance and Electronic Music', 'separate', 'either', 'demonstrating', 'Educational Video Games', 'someone', 'entertains', 'glasses', 'passengers', 'cards', 'work', 'bicycling', 'Extreme Sports', 'beanie', 'Wellness', 'sweater', 'meal', 'bananas', 'missing', 'breakdancing', 'dog', 'progress', 'bass', 'support', 'teenagers', 'Travel Type', 'brushes', 'sandy', 'beard', 'puppy', 'yellow', \"Men's Health\", 'snowman', 'snowboard', 'ocean', 'ski', 'official', 'wild', 'ceiling', 'bedroom', '10', 'fixing', 'substance', 'Geology', 'sad', 'workers', 'buying', 'bed', 'Running and Jogging', 'waist', 'spanish', 'fashion', 'necklace', 'razor', 'Designer Clothing', 'monk', 'porch', 'accompanied', 'Classical Music', 'Travel Accessories', 'aquarium', 'Auto Navigation Systems', 'snacks', 'attempting', 'complete', 'Desserts and Baking', 'purses', 'perched', 'motorcycles', 'looks', 'together', 'speaker', 'bags', 'bowls', 'make', 'trunks', 'hall', 'boogie', 'girls', 'find', 'whilst', 'its', 'youths', 'skiers', 'cab', 'inspect', 'Laptops', 'places', 'lounge', 'Special Education', 'soldier', 'all', 'kayaks', 'Home Improvement', 'Microcar', 'Ear, Nose and Throat Conditions', 'skis', 'formal', 'Home Security', \"Men's Underwear and Sleepwear\", 'hills', 'Family and Relationships', 'paddling', 'cold', 'competitive', 'lean', 'Civil Engineering Industry', 'Pickup Trucks', 'power', 'talks', 'handing', 'Diseases and Conditions', 'adults', 'wooden', 'cake', 'bending', 'Divorce', 'Badminton', 'yarn', 'bored', 'headscarf', 'kneels', 'police', 'forward', 'dive', 'classroom', 'watches', 'selling', 'even', '9', 'driver', 'when', 'follow', 'sell', 'handle', 'tools', 'Water Polo', 'North America Travel', 'relaxing', 'amount', 'looked', 'coca', 'casting', 'chatting', 'pushing', 'Gardening', 'newborn', 'sunny', 'scientist', 'pose', 'boxer', 'purple', 'kiss', 'chess', 'Casino and Gambling Video Games', 'ruins', 'followed', 'chairs', 'horses', 'Communication', 'sprinkler', 'st', 'exercising', 'flight', 'puddle', 'arm', 'trophy', 'pink', 'falling', '33', 'laptops', 'Style & Fashion', 'rainbow', 'texas', 'performing', 'hill', 'mohawk', 'biking', 'Squash', 'wheel', 'farmer', 'Home Entertainment Systems', 'wheeler', 'Cheerleading', 'kicks', 'bush', 'market', 'range', 'roll', 'kiosk', 'beginning', 'raft', 'sides', 'gestures', 'Outdoor Attractions', 'Geography', 'Undergraduate Education', 'step', 'carpet', 'Financial Regulation', 'an', \"Men's Sportswear\", '8', 'foam', 'helping', 'skater', 'Walking', 'holding', 'bagpipes', 'tracks', 'decorations', 'Food Allergies', 'filming', 'beers', 'Bodybuilding', 'money', 'dragon', 'leaning', 'drives', 'bends', 'gymnasium', 'so', 'sleeves', 'bakery', 'browsing', 'boats', 'throwing', 'put', 'sailor', 'passenger', 'Skin and Dermatology', 'drinking', 'truck', 'Australia and Oceania Travel', 'balances', 'country', 'tail', 'choir', 'woman', 'sea', 'orchestra', 'clothing', 'new', 'heading', 'Internet Safety', 'men', 'boat', 'Home & Garden', 'tent', 'stairway', 'College Education', 'practice', 'mixing', 'pit', 'tackling', 'tripod', 'backseat', 'dimly', 'Surfing and Bodyboarding', 'fight', 'palm', 'device', 'spectators', 'dancing', 'sunlight', 'sleeveless', 'swimming', 'rocky', 'Skin Care', 'Desktops', 'blanket', 'backs', 'busy', 'takes', 'hose', 'talking', 'watermelons', 'Action/Adventure', 'image', 'Classic Rock', 'fake', 'eyes', 'flat', 'transportation', 'Desktop Publishing', 'surface', 'tricycle', 'Small and Medium-sized Business', 'serving', 'disc', 'dumpster', 'being', 'entrance', 'break', 'happy', 'Household Supplies', 'prepare', 'reflection', 'Bowling', 'sort', 'Eye and Vision Conditions', 'tired', 'downhill', 'shallow', 'much', 'bearded', 'water', 'another', 'wedding', 'branch', 'more', 'banners', 'Beauty', 'Civic affairs', 'motorbikes', 'out', 'jump', 'advertisements', 'running', 'eSports', 'Smoking Cessation', 'duck', 'hood', 'dusty', 'rests', 'plank', 'Herbs and Supplements', 'onto', 'newly', 'knitting', 'television', 'checking', 'Disabled Sports', 'greyhounds', 'dressed', 'Menopause', 'Adventure Video Games', 'packed', 'floating', 'denim', 'leans', 'washing', 'tan', 'older', 'adjusts', 'soap', 'gas', 'taken', 'Parenting', 'material', 'trashcan', 'guard', 'Antivirus Software', 'Sports Equipment', 'cello', 'plaza', 'closed', 'stares', 'cool', 'bath', 'kicked', 'Action-Adventure Video Games', 'converse', 'Entertainment', 'conference', 'Soft Rock', 'style', 'few', 'camouflage', 'here', 'polka', 'comes', 'chocolate', 'bouncing', 'machine', 'crouches', 'labeled', 'midair', 'carriage', 'examines', 'Non-Profit Organizations', 'loading', 'backdrop', 'racing', 'asians', 'fat', 'fishing', 'spray', 'propped', 'red', 'railing', 'float', 'wetsuit', 'flannel', 'show', 'jeans', 'tied', 'tee', 'lands', 'tile', 'stores', 'skull', 'toward', 'nearly', 'bent', 'cafeteria', 'festive', 'like', 'boxing', 'Email', 'Productivity', 'member', 'snow', 'at', 'color', 'stretching', 'overlooking', 'attempt', 'keep', 'block', 'vegetation', 'members', 'Personal Investing', 'Genetics', 'foods', 'ledge', 'will', 'Insurance', 'record', 'student', 'speaking', 'tire', 'Biological Sciences', 'Historic Site and Landmark Tours', 'cup', 'pictures', 'Business Loans', 'Nightclubs', 'dune', 'Convertible', 'flags', 'fishes', 'Judaism', 'Large Business', 'finish', 'mouths', 'up', 'microphone', 'of', 'contraption', 'victory', 'Bath and Shower', 'moving', 'Browsers', 'Grocery Shopping', 'win', 'receiving', 'Atheism', 'peering', 'jogs', 'paying', 'tropical', 'Travel', 'but', 'away', 'bars', 'toy', 'Cancer', 'cluttered', 'similar', 'spots', 'concrete', 'lush', 'hugging', 'pan', 'lion', 'wheelbarrow', 'ramp', 'van', 'attention', 'grand', 'drinks', 'sets', 'sat', 'swimmers', 'Medical Tests', 'skateboarders', 'double', 'designs', 'skateboarding', 'muscular', 'jet', 'evening', 'examining', 'rack', \"Men's Business Wear\", 'opens', 'shower', 'atv', 'Soccer', 'College Sports', '37', 'Physics', 'Internet', 'wait', '45', 'bricks', 'observing', 'strange', 'Songwriters/Folk', 'large', '35', 'tattoos', 'pair', 'scottish', 'coach', 'order', 'advertisement', 'biting', 'mug', 'Publishing Industry', 'plaid', 'ears', 'Stocks and Bonds', 'interact', 'mid', 'boxers', 'Allergies', 'Video Game Genres', 'own', 'checked', 'tights', 'Auto Shows', 'patient', 'tiled', 'family', 'catching', 'cooking', 'served', 'mechanical', 'nap', 'blankets', 'Holiday Shopping', 'Soft AC Music', 'inflatable', 'referee', 'cheerleaders', 'alleyway', 'jenga', 'above', 'Computer Networking', 'shown', 'hammock', 'shape', 'camels', 'elderly', 'Search', 'climbs', 'usa', 'Pharmaceutical Drugs', 'seen', 'warmly', 'poodle', 'battle', 'shows', 'Prom', 'focused', 'wrestlers', 'swim', 'along', 'beads', 'york', 'trailer', 'action', 'park', 'shawl', 'folded', 'Mutual Funds', 'Coupons and Discounts', 'cameraman', 'outdoor', 'sandals', 'shaped', 'praying', 'jogging', 'back', 'Casinos & Gambling', 'others', 'shoulders', 'performer', 'lined', 'roller', 'south', 'jeep', 'stump', 'photographing', 'Weather', 'cigarette', 'Operating Systems', 'counter', 'old', 'aiming', 'rainy', 'does', 'snowball', 'shorts', 'dotted', 'construction', 'scenic', 'Vocational Training', 'watch', 'climbing', 'Alternative Medicine', 'Musical Instruments', 'rider', 'spread', 'feathers', 'give', 'notebook', 'carts', 'Cigars', 'Air Travel', 'sun', 'farmers', 'chalkboard', 'monks', 'jumps', 'door', 'checkered', 'guns', 'standing', 'drill', 'grabs', 'writing', 'garb', 'chair', 'shadow', 'directions', 'turban', 'Sales', 'skirt', 'tongue', 'Pets', 'lift', 'land', 'hike', 'dribbles', 'Music and Party Video Games', 'balloon', 'caucasian', 'pot', 'tags', 'wrestling', 'Landscaping', 'player', 'painted', 'shops', 'History', 'microscope', 'senior', 'incline', 'Sports Video Games', 'gets', 'cat', 'stunt', 'he', 'Body Art', 'dryer', 'good', 'cans', 'Houses', 'seems', 'enclosed', 'seated', '31', 'computers', 'lone', 'hydrant', 'sister', 'messy', 'bra', 'chicken', 'monitors', 'drawing', 'buildings', 'chasing', 'circular', 'Construction Industry', 'elder', 'Media Industry', 'Personal Care', 'fireworks', 'card', 'teammates', 'beams', 'sleeved', 'in', 'banjo', 'bridesmaids', 'fashioned', 'high', 'flips', 'posters', 'prepares', 'seat', 'golden', 'antique', 'Sci-fi and Fantasy', 'underwater', 'stars', 'sticking', 'helps', 'Home Entertaining', 'process', 'crosscountry', 'low', 'straight', 'section', 'discussing', 'dolls', 'wear', 'surfs', 'fedora', 'establishment', 'uniform', 'books', 'sidewalk', 'waiting', 'riders', 'Attractions', 'try', 'people', 'thumbs', 'streets', 'sprinklers', 'Reptiles', 'Auto Safety', 'Cameras and Camcorders', 'extended', 'doctors', \"Women's Sportswear\", 'or', 'watering', 'basket', 'curve', 'eyeglasses', 'semi', 'lecture', 'backpacks', 'pigtails', 'really', 'tosses', 'light', 'divers', 'butcher', 'moped', 'motorcyclist', \"Women's Business Wear\", 'slide', 'World Cuisines', 'heavy', 'Fan Conventions', 'Rugby League', 'landscape', 'leaps', 'within', 'lights', 'bathing', 'tackled', 'greyhound', 'Hobbies & Interests', 'odd', 'Travel Preparation and Advice', 'wrap', 'rows', '11', 'heavily', 'grass', 'no', 'covered', 'Consumer Electronics', 'snowboarder', 'rural', 'Holidays', 'seats', 'Indoor Environmental Quality', 'ride', 'pours', 'approaching', 'hind', 'fire', 'fly', 'Manufacturing Industry', 'uses', 'blazer', 'helmeted', 'keyboard', 'line', \"Women's Hats and Scarves\", 'Barbecues and Grilling', 'visiting', 'Motor Insurance', 'Classic Cars', 'dives', 'Birthday', 'driveway', 'container', 'Home Insurance', 'christmas', 'billboard', 'hotel', 'Auto Rentals', 'pool', 'Special Interest (Indie/Art House)', 'fisherman', 'arena', 'treadmill', 'mud', 'squatting', 'wet', 'escalator', 'Early Childhood Education', 'book', '50', 'dresses', 'driving', 'cloudy', 'Financial Crisis', 'edge', 'length', 'well', 'bikinis', 'rail', 'canal', 'kicking', 'rope', 'had', 'pumpkin', 'Beekeeping', 'raincoat', 'decorative', 'their', 'plane', 'clear', 'Pet Adoptions', 'handbag', 'the', 'different', 'waits', 'night', 'among', 'wide', 'Real Estate Renting and Leasing', 'baked', 'cigarettes', 'racquet', 'admiring', 'steam', 'several', 'text', 'earrings', 'photographed', 'crawling', 'strapped', 'Golf', 'between', 'rifle', 'items', 'Scuba Diving', 'sized', 'hillside', 'plays', 'knit', 'participate', 'ground', 'products', 'clay', 'lay', 'bites', 'surrounding', 'church', 'containers', \"Women's Jewelry and Watches\", 'stacked', 'flowers', 'football', 'square', 'fetch', 'pass', 'underwear', 'Job Search', 'grill', 'Mobile Games', 'War and Conflicts', 'jewelry', 'Equine Sports', 'bunch', 'angry', 'distant', 'Scrapbooking', 'axe', 'that', 'frying', 'steering', 'setting', 'sitting', 'map', 'each', 'rides', 'practices', 'reaches', 'drums', 'merchandise', 'asking', 'from', 'wine', 'graffiti', 'deer', 'floral', 'Career Advice', 'fruit', 'Adult Education', 'Jewelry Making', 'shovels', 'cone', 'room', 'employee', 'clapping', 'friend', 'facility', 'shaving', 'gives', 'wife', 'helicopter', 'presenting', 'Snooker/Pool/Billiards', 'carefully', 'sword', 'meadow', '19', 'side', 'though', 'beverages', 'girl', 'Budget Travel', 'animals', 'Adventure Travel', 'worker', 'cast', 'held', 'welding', 'Alternative Music', 'phone', 'platform', 'get', 'reads', 'made', 'signing', 'Religious (Music and Audio)', 'body', 'avoid', 'Veterinary Medicine', 'rowing', 'tea', 'Home Appliances', 'Dance', 'menu', 'seagulls', 'quiet', 'hard', 'stretch', 'neon', 'Online Piracy', 'suspended', 'puppies', 'women', 'multiple', 'jockeys', 'chips', 'knife', 'Events', 'flipping', 'involved', 'nine', 'shirtless', 'lots', 'march', 'joy', 'forested', 'digital', 'Business Travel', 'place', 'Games and Puzzles', 'slightly', 'eye', 'peers', 'practicing', 'grinding', 'campfire', 'hut', 'asian', 'Government Support and Welfare', 'Simulation Video Games', 'appear', 'warm', 'guitars', 'poster', 'bouquet', 'makeup', 'candle', 'nail', 'sleeps', 'hardwood', 'chopping', 'riverbank', 'attached', 'Gas and Electric', 'mower', 'shirt', 'drum', 'crops', 'enjoy', 'mall', 'skateboard', 'clean', 'leaping', 'ad', 'embrace', 'Alternative Rock', 'spraying', 'fountain', 'Bone and Joint Conditions', 'him', 'Computer Animation', 'sheet', 'objects', 'raised', 'else', 'rapids', 'enter', 'Auto Parts', 'grinds', 'belts', 'diner', 'chewing', 'wall', 'Economy', 'vending', 'mostly', \"Men's Outerwear\", 'cook', 'flip', 'this', 'convention', 'best', 'facing', 'wading', 'live', 'dining', 'telescope', 'Hunting and Shooting', 'freshly', 'Web Conferencing', 'Business I.T.', 'city', 'crown', 'cheerleading', 'raking', 'skates', 'Stamps and Coins', 'news', 'pillow', 'Wedding', 'stairs', 'flying', 'Healthy Cooking and Eating', 'cloud', 'pull', 'murky', 'Parenting Babies and Toddlers', 'glass', 'Currencies', 'sunglasses', 'sink', 'atm', 'library', 'marker', 'Power and Energy Industry', 'skin', 'hotdog', 'inflated', 'jean', 'fruits', 'saying', 'rock', 'fatigues', 'security', 'classic', 'kid', 'hanging', 'homemade', 'Auto Repair', 'Adult & Explicit Sexual Content', 'Beach Volleyball', 'tops', 'alone', 'eggs', 'miniature', 'Tablets and E-readers', 'rafting', 'inspects', 'shore', 'numbered', 'ribbon', 'underground', 'raising', 'Social Networking', 'extreme', 'puts', 'swimsuits', 'baby', 'called', 'Retail Property', 'serves', 'dogs', 'built', 'Apprenticeships', 'chopsticks', 'spinning', 'row', 'families', 'Celebrity Families', 'learning', 'derby', 'paddle', 'sledding', 'diving', 'buggy', 'dress', 'personnel', 'service', 'Apartments', 'Hospitality Industry', 'nails', 'tiger', 'toilet', 'nose', 'Arts and Crafts', 'rest', 'Musicals', 'pack', 'serve', 'Pet Supplies', 'pong', 'Wearable Technology', 'cart', '4', 'than', 'finishing', 'ticket', 'applying', 'bmx', 'foot', 'Luxury Cars', 'Business', 'Educational Assessment', 'Infectious Diseases', 'Personal Finance', 'stair', 'sculpting', 'rice', 'tool', 'three', 'pretty', 'Fiction', 'concert', 'toddlers', 'bull', 'share', 'candy', 'cream', 'podium', 'many', 'trampoline', 'environment', 'umpire', 'do', 'airport', 'shoot', 'Audio Production', \"Men's Clothing\", 'aged', 'control', 'rollerskating', 'entering', 'towel', 'cleans', 'under', 'Rodeo', 'Soap Opera', 'groom', 'blue', 'workshop', 'recording', 'Celebrity Relationships', \"Women's Clothing\", 'fenced', 'indoors', 'Shaving', 'muzzle', 'adult', 'look', 'printed', 'stopping', 'public', 'smaller', 'fresh', 'transit', 'excitement', 'nightclub', 'hot', 'apartment', 'teen', 'scaffold', 'empty', 'closeup', 'Holistic Health', 'Education', 'stream', 'sleeping', 'chef', 'splashes', 'trail', 'Elections', 'pets', 'calf', 'planting', 'Weightlifting', 'Secondary Education', 'string', 'bright', 'coloring', 'using', 'Darts', 'Inspirational/New Age Music', 'knee', 'females', 'shade', 'makeshift', 'viewing', 'medieval', 'Hormonal Disorders', 'group', 'lead', 'Sports', 'lipstick', 'bookstore', 'fabric', 'workout', 'Arms & Ammunition', 'mcdonald', 'blurred', 'Startups', 'been', 'harbor', 'Drama', 'goatee', 'silly', 'parked', 'Video Gaming', 'giant', 'spot', 'watching', 'lawn', 'nun', 'clothesline', 'played', 'Modern Art', 'wheeled', 'load', 'laundromat', 'fields', 'sundress', 'pattern', 'Olympic Sports', '14', 'song', 'Sailing', 'reaching', 'candles', 'rocking', 'tables', 'Street Style', 'Figure Skating', 'magazines', 'advertising', 'scarves', 'Angel Investment', 'skirts', 'intently', 'Basketball', 'scales', 'sorting', 'nice', 'shaggy', 'brushing', 'Automotive', 'mask', 'creek', 'Budget Cars', 'marathon', 'lanterns', 'falls', 'travels', 'bike', 'gymnastics', 'tub', 'Graphics Software', 'leotard', 'gathers', 'True Crime', 'vegetables', 'tomatoes', 'Bachelor Party', 'tackle', 'dot', 'protesters', 'near', 'newspapers', 'autumn', 'dusk', 'field', 'stretched', 'electric', 'umbrellas', 'Financial Industry', 'coffee', 'patio', 'Parenting Teens', 'snake', 'performs', 'canyon', 'pond', 'snowboarding', 'binoculars', 'scene', 'bank', 'exiting', 'stripes', 'trucks', 'scenery', 'headed', 'shines', \"Women's Handbags and Wallets\", 'laptop', 'Talk Show', 'brush', 'Party Supplies and Decorations', 'cave', '28', 'fan', 'front', 'school', 'haired', 'strollers', 'Concept Cars', 'catch', 'customer', 'canoes', 'teacher', 'Snowboarding', 'persons', 'meet', 'clad', 'garden', '43', 'full', 'jerseys', 'players', 'crazy', 'fancy', 'yelling', 'casually', 'Non-Alcoholic Beverages', 'Islam', 'quarterback', 'fill', 'paved', 'operating', 'buried', 'nearby', '48', 'waiter', 'how', 'Homeschooling', 'Green Solutions', 'chain', 'there', 'Fine Art', 'newspaper', 'mirror', 'marketplace', 'gown', 'vest', 'airplane', 'burning', 'necklaces', 'Racing Video Games', 'Web Development', 'marble', 'link', 'heart', 'pictured', 'flops', 'Oral care', 'Cloud Computing', 'pots', 'siting', 'turns', 'Reproductive Health', 'some', '30', 'flag', 'trash', 'puppet', 'Coupe', 'hallway', 'may', 'colors', 'attire', 'init', 'position', 'reddish', 'mountains', 'dry', 'rally', 'beverage', 'pants', 'employees', '7', 'mountainous', 'mustache', 'hats', 'Photo Editing Software', 'following', 'photo', 'College Basketball', 'german', 'climb', 'cries', 'Reggae', 'just', 'staff', '5', 'filled', 'trumpet', 'splash', '23', 'maintenance', 'british', 'lifted', 'teal', 'Management Consulting Industry', 'surfboard', 'photos', 'wood', 'interacting', 'stomach', 'eating', 'apron', 'scooters', 'Hotels and Motels', 'subway', 'cowboy', 'Mystery', 'Pharmaceutical Industry', 'costumes', 'object', 'Parenting Children Aged 4-11', 'her', 'varying', 'guitar', 'parade', 'Standardized Testing', 'tug', 'Mechanical and Industrial Engineering Industry', 'hugs', 'Outdoor Decorating', 'great', 'intense', 'groceries', 'buffet', 'below', 'scaffolding', 'pale', 'males', 'harness', 'steel', 'elmo', 'fell', 'course', 'poses', 'toys', 'ballerina', 'art', 'swings', 'Candle and Soap Making', 'muzzled', 'yard', 'surprised', 'Business Utilities', 'caught', 'bowling', 'twirling', 'loaded', 'nike', 'golf', 'Public Radio', 'skills', 'lamp', 'background', 'speak', 'ring', 'shoulder', 'which', 'cityscape', 'weather', 'Lotteries and Scratchcards', 'ax', 'conversation', 'Car Culture', 'finger', 'who', 'gathered', 'coming', 'swords', 'kayaker', 'baseball', 'Bars & Restaurants', 'Awards Shows', 'meeting', 'musician', 'department', 'straw', 'gesture', 'african', 'kisses', 'prepared', 'countryside', 'dock', 'cardboard', 'kayak', 'displayed', 'flowing', 'crouched', 'boxes', \"Women's Intimates and Sleepwear\", '13', 'reach', 'skaters', 'scuba', 'gazing', 'hotdogs', 'got', 'having', 'gray', 'smiling', 'parka', 'steep', 'mountain', 'Africa Travel', 'waterfall', 'waterskiing', 'stand', 'slides', 'hiding', 'texting', 'elaborate', 'radio', 'open', 'cargo', 'log', 'uniformed', 'Dating', 'belly', 'featuring', 'trains', 'speeds', 'Asia Travel', 'pine', 'motor', 'columns', 'skier', 'series', 'sewing', 'crashing', 'supermarket', 'hooded', 'guys', 'desks', 'scrubs', 'task', 'tuxedo', 'pen', 'Real Estate Industry', 'ups', 'track', 'gardening', 'gravel', 'treat', 'activities', 'sponsored', 'act', 'metal', 'blow', 'piles', 'fellow', 'Data Storage and Warehousing', 'ready', 'tiles', 'chase', 'pottery', 'jumpsuit', 'photographers', 'named', 'huge', 'plate', 'Boxing', 'sits', 'gentlemen', 'touches', 'bear', 'Wrestling', 'Gospel Music', 'done', 'younger', 'spike', 'bracelet', 'Land and Farms', 'space', 'am', 'wind', 'bicycle', 'redheaded', 'Agriculture', 'Radio Control', 'tractor', 'lips', 'perform', 'crying', 'tying', 'swan', 'rolls', 'area', 'canvas', 'World/International Music', 'gold', 'balloons', 'most', 'walk', 'sheep', 'happily', 'upside', 'hands', 'bench', 'sleeve', 'laboratory', 'Collecting', 'observe', 'fountains', 'bird', 'social', 'metro', 'Model Toys', '40', 'orange', 'collie', 'Family Video Games', 'board', 'reflective', 'wooded', 'pavement', 'finished', 'vacuum', 'Astrology', 'cloth', 'bread', 'loom', 'Databases', 'watermelon', 'pajamas', 'protective', 'Telecommunications Industry', 'shoes', 'presentation', 'piece', 'Road Trips', 'curb', 'conductor', 'tourists', 'Robotics', 'opening', 'building', 'passersby', 'tuba', 'lifting', 'smokes', 'camping', 'skateboarder', 'top', 'karate', 'Comic Books', 'infant', 'torch', \"Children's Clothing\", 'six', 'pointed', 'slacks', 'help', 'two', 'camel', 'ribbons', 'Debated Sensitive Social Issues', 'touching', 'ship', 'passing', 'legs', 'trolley', 'checkers', 'mic', 'purse', 'innertube', 'wave', 'framed', 'mailbox', 'five', 'walking', 'mouth', 'cellphone', 'almost', 'arch', 'draws', 'goat', 'mixer', 'Automotive Industry', 'thick', 'blocking', 'hat', 'himself', 'Participant Sports', 'wig', 'through', 'company', 'wilderness', 'vendors', 'apples', 'luggage', 'island', 'couples', 'steps', 'rear', 'it', \"Women's Health\", 'opened', 'tower', 'call', 'garment', 'pier', 'zone', 'chainsaw', 'Language Learning', 'chat', 'Surgery', 'scaling', 'fix', 'sharp', 'Smartphones', 'archway', 'Food & Drink', 'Private Equity', 'lies', 'legged', \"Children's Health\", 'pick', 'hikers', 'trip', 'Eldercare', 'brunette', 'downtown', 'feet', 'Interest Rates', 'shiny', 'barefooted', 'athletes', 'pins', 'Postgraduate Education', 'end', 'tree', 'tennis', 'stretches', 'Industrial Property', 'rolling', 'a', 'sunset', 'desert', 'cyclist', 'turn', 'tips', 'Home Utilities', 'Computer Peripherals', 'huddle', 'Skiing', 'terminal', 'strikes', 'beer', \"Women's Casual Wear\", 'Student Loans', 'amusement', 'reception', 'seven', '29', 'singer', 'tattoo', 'feather', 'floats', 'Cold and Flu', 'short', 'kind', 'Homework and Study', 'Inline Skating', 'rescue', 'overweight', 'handling', 'cute', 'times', 'Freelance Writing', 'cheering', 'tribal', 'train', 'costume', 'jumper', 'Lung and Respiratory Health', 'booth', 'Hip Hop Music', 'Resume Writing and Advice', 'sells', 'surf', 'Dental Health', 'exercise', 'caps', 'pad', 'painting', 'conducting', 'prayer', 'Logistics', 'trim', 'wires', 'Healthcare Industry', 'fans', 'Business Administration', 'Commercial Trucks', 'climber', 'outfit', 'Illegal Drugs, Tobacco, eCigarettes, Vaping, Alcohol', 'vintage', 'teaching', 'talk', 'paintings', 'Amusement and Theme Parks', 'oriental', 'goes', 'cleaning', 'brick', 'Agnosticism', 'Sports Radio', 'jog', 'alley', 'reading', 'Minivan', 'walkway', 'shirted', 'pacifier', 'stops', 'barrier', 'pillows', 'Poetry', 'Urban Contemporary Music', 'exhibit', 'statues', 'picture', 'putting', 'tape', 'pet', 'stall', \"Men's Accessories\", 'Crossover', 'carousel', 'gesturing', 'passes', 'homeless', 'firemen', 'test', 'shelves', 'lining', 'juggling', 'walks', 'bulldozer', 'crate', 'attractive', 'focus', 'cut', 'life', 'claus', 'redhead', 'topless', 'couch', 'something', 'floor', 'demonstration', 'bat', 'beat', 'headphones', 'studying', 'Europe Travel', 'celebrate', 'gift', 'crossed', 'boulder', 'muddy', 'protest', '38', 'Foot Health', 'rolled', 'shoveling', 'sports', 'taxi', 'Cosmetic Medical Services', 'military', 'Auto Type', 'Biotech and Biomedical Industry', 'Christianity', 'heads', 'debris', 'mop', 'babies', 'goalie', 'mountaintop', 'hang', 'getting', 'silhouette', 'fun', 'nurse', 'Diabetes', 'Artificial Intelligence', 'milk', 'Theater', 'Paintball', 'winter', 'surfing', 'sky', 'basketball', 'batter', 'Genres', 'john', 'suits', 'Road-Side Assistance', 'santa', 'makes', 'inside', 'restaurant', 'Sleep Disorders', 'pirate', 'inspecting', 'grassy', 'buy', \"Men's Fashion\", 'child', 'gentleman', 'skinned', 'barricade', 'Funeral', 'pushed', 'sideways', 'stepping', 'drag', 'plant', 'leash', 'narrow', 'Family Travel', 'hawaiian', 'ropes', 'shaved', 'Biographies', 'indoor', 'motion', 'Technology Industry', 'fist', 'buckets', 'tattooed', 'pitcher', 'mountainside', 'Physical Therapy', 'curved', 'class', 'care', 'Canoeing and Kayaking', 'variety', 'stroll', 'soft', 'point', 'adorned', \"Children's Games and Toys\", 'whose', 'urban', 'shelf', 'kilt', 'bathroom', 'person', 'son', 'nighttime', 'middle', 'leap', 'masks', 'dad', 'waitress', 'Movies', 'Housing Market', 'sprayed', 'things', 'ladies', 'dance', 'Roleplaying Games', 'peeking', 'bystanders', 'set', 'japanese', 'down', 'singing', 'clowns', 'Sexual Conditions', 'Perfume and Fragrance', 'banana', 'jungle', 'pedestrian', 'runner', 'cage', 'High Fashion', 'Logistics and Transportation Industry', 'casino', 'Law', 'balls', 'lighting', 'also', 'containing', 'brightly', 'tube', 'waterway', 'Religion & Spirituality', 'paints', 'rollerskates', 'cross', 'you', 'doorway', 'sticks', 'lady', 'Zoos & Aquariums', 'Job Market', 'picking', 'olive', 'bounce', 'potato', 'sweeping', 'Fine Art Photography', 'Shopping', 'skies', 'play', 'river', 'Baby Shower', 'has', \"Women's Outerwear\", 'view', 'carnival', 'screaming', 'Rugby Union', 'Real Estate Buying and Selling', 'ballet', 'Celebrity Homes', 'pencil', 'citizens', 'and', 'forehead', 'turkey', 'sneakers', 'war', \"Men's Formal Wear\", 'soup', 'Real Estate', 'not', 'Art and Photography', 'court', 'Fishing Sports', 'Vegetarian Diets', 'skate', 'racers', 'contest', 'Sensitive Topics', 'Buddhism', 'Crime', 'sweatshirt', 'we', 'protection', 'pickup', 'heels', 'medical', 'Personal Taxes', 'say', 'cellphones', 'herself', 'serious', 'Pop Culture', 'Chemistry', 'firefighter', 'Internet Service Providers', 'rooftop', 'asphalt', 'participating', 'pony', '25', 'students', 'base', 'First Aid', 'nurses', 'spring', 'display', 'lays', 'donkey', 'motorized', 'resting', 'broom', 'bowl', 'trick', 'belongings', 'projector', 'performance', 'walls', 'stacks', 'Sikhism', 'paws', 'somebody', 'Space and Astronomy', 'Talk Radio', 'commercial', 'musicians', 'portable', 'ridden', 'carrier', 'Humor and Satire', 'Science Fiction', 'entertaining', 'Maps & Navigation', 'shadows', 'theater', 'path', 'word', 'licks', 'observes', 'including', 'onlookers', 'checks', 'before', 'Lifestyle', '49', 'Adult Video Games', 'College Planning', 'cowboys', 'smile', 'crew', 'tires', 'violin', 'plain', 'Food Movements', 'Interior Decorating', 'activity', 'too', 'IT and Internet Support', 'discussion', 'Anniversary', 'name', 'surrounded', 'venue', 'flock', 'aisle', 'shoe', 'kite', 'musical', 'parents', 'Photography', 'Information Services Industry', 'Birth', 'telephone', 'stuff', 'tour', 'youth', 'ten', 'Auto Recalls', 'half', 'eastern', 'clown', 'surfers', 'pauses', 'dreadlocks', 'roof', 'airborne', 'rings', 'doctor', 'take', 'knees', 'off', 'upwards', 'crowds', 'afternoon', 'doll', 'pitch', 'Water Services', 'Gifts and Greetings Cards', 'Digestive Disorders', 'Volleyball', 'Poker and Professional Gambling', 'star', 'jockey', 'unicycle', 'rocks', 'Personal Debt', 'vendor', 'were', 'viewer', 'icy', '44', 'atop', 'Developmental Sites', 'Fashion Trends', 'baskets', 'Genealogy and Ancestry', 'mural', 'involving', 'stroller', 'Rowing', 'collared', 'close', 'weaving', 'Motorcycle Sports', 'poles', 'tending', 'vests', 'PC Games', '46', 'cotton', 'summer', 'grilling', 'hand', 'Theater Venues', 'goggles', 'Hotel Properties', 'motorbike', 'cricket', 'lower', 'community', 'backyard', 'placed', 'about', 'pouring', 'Information and Network Security', 'european', 'cups', 'listen', 'underneath', 'Malls & Shopping Centers', 'throws', 'holds', 'stack', 'single', 'somewhere', 'marching', 'mound', 'game', 'hammer', 'curtain', 'coat', 'alcohol', 'Smart Home', 'punching', \"Women's Formal Wear\", 'wrestle', 'Business Expos & Conferences', 'Substance Abuse', 'staircase', 'sparring', 'traveling', 'drummer', 'helmet', 'cycling', 'button', 'muslim', 'nature', 'words', 'retriever', 'includes', 'swing', 'Fantasy Sports', 'Off-Road Vehicles', 'print', 'overpass', 'america', 'professional', 'colorfully', 'Commodities', 'blocks', 'kids', 'Augmented Reality', 'splashed', 'climbers', 'wings', 'neck', 'clothed', 'lap', 'Album-oriented Rock', 'stringed', 'science', 'courtyard', 'industrial', 'plastic', 'bikes', 'Oldies/Adult Standards', 'spotted', 'if', 'food', 'religious', 'highchair', \"Men's Shoes and Footwear\", 'wheelie', 'Waterskiing and Wakeboarding', 'other', 'racket', 'mannequin', 'everyone', 'produce', 'foliage', 'College Football', 'Needlework', 'Cats', 'second', 'beside', 'harmonica', 'skateboards', 'chases', 'striking', 'broken', 'toddler', 'lane', 'juggles', 'belt', 'instrument', 'pretending', 'into', 'squats', 'hoodie', 'jumpsuits', \"Children's Music\", 'lying', 'bronco', 'accordion', 'upper', 'Advertising Industry', 'corn', 'umbrella', 'funny', 'pedestrians', 'desk', 'Antiquing and Antiques', 'dried', 'hoops', 'bottle', 'Shareware and Freeware', 'nets', 'clouds', 'Performance Cars', 'National & Civic Holidays', 'bin', 'race', 'Consumer Banking', 'while', 'wrapped', 'Terrorism', 'Urban AC Music', 'same', 'oven', 'scooter', 'Horror Video Games', 'fast', 'dust', 'his', 'poor', 'runners', 'fog', 'stands', 'examine', 'system', 'Home Financing', 'plates', 'skyline', 'club', 'Nail Care', 'Business Operations', 'catcher', 'carry', 'hip', 'visor', 'supplies', 'larger', 'smoking', 'Birdwatching', 'decorated', 'sculpture', 'Financial Assistance', 'museum', 'sound', 'earth', 'ladder', 'Human Resources', 'trunk', 'Hair Care', 'bend', 'Spas', 'cliff', 'Sedan', 'MMOs', 'various', 'is', 'scouts', 'suitcase', 'during', 'item', 'head', 'enjoying', 'embracing', 'snowy', 'soda', 'brother', 'jack', 'balding', 'crowd', 'moves', 'Career Planning', 'equipment', 'waving', 'gazes', 'cars', 'illuminated', 'guy', 'wagon', 'fencing', 'casual', 'Animation & Anime', 'opposing', 'peace', '41', 'gear', 'expression', 'chinese', 'Country Music', 'policemen', 'Marketing and Advertising', 'booths', 'completely', 'coaster', 'father', 'Daycare and Pre-School', 'elephant', 'drilling', 'because', 'stuck', 'Screenwriting', 'Celebrity Style', 'present', 'daytime', 'Video Software', 'cigar', 'Dash Cam Videos', 'picnic', 'dinosaur', 'pay', 'tie', 'Digital Audio', 'Casual Games', 'mat', 'sailboat', 'signs', 'apple', 'sack', 'applies', 'dyed', 'small', 'writes', 'Government Business', 'Adult Contemporary Music', 'martial', 'stadium', 'catches', 'glove', 'Large Animals', 'cameras', 'crouching', 'third', 'Weight Loss', 'volleyball', 'towards', 'iron', 'tournament', 'bare', 'Obscenity and Profanity', 'displaying', 'hiking', '18', 'have', 'little', 'partially', 'Skateboarding', 'children', 'garbage', 'suit', 'points', 'medium', 'teenager', 'benches', '27', 'gloves', 'these', 'characters', 'obstacle', 'Comics and Graphic Novels', 'Driverless Cars', 'pop', 'road', 'South America Travel', 'crayons', 'Careers', 'gun', 'Adult Album Alternative', 'peach', 'Cruises', 'walmart', 'headdress', 'trying', 'Single Life', 'Cycling', 'way', 'Fantasy', 'balcony', 'champagne', 'listening', 'Cooking', 'she', 'Cricket', 'wares', 'looking', 'covers', '15', 'Camping', 'harp', 'artist', 'cutting', 'soccer', 'Rock Music', 'Australian Rules Football', 'sharing', 'photograph', 'bushes', 'dj', 'Education industry', 'relaxes', 'piggyback', 'gym', 'cap', 'motocross', 'time', 'package', 'acoustic', 'jumping', 'blows', 'Fish and Aquariums', '2012', 'Sale & Lease Back', 'leaving', 'interesting', 'type', 'job', 'handrail', 'patterned', 'bald', 'navy', 'fighting', 'pig', 'Student Financial Aid', 'halloween', 'shaking', 'was', 'customers', 'Spam or Harmful Content', 'opponent', 'directing', 'rowboat', 'crafts', 'modern', 'pyramid', 'foreign', 'braided', 'emergency', 'petting', 'pin', 'cookie', 'merry', 'Business Accounting & Finance', 'Swimming', 'house', 'Vegan Diets', 'Green Vehicles', 'guitarist', 'monopoly', 'folding', '42', 'barber', 'mascot', 'dishes', 'adjusting', 'overlooks', 'stirring', 'swinging', 'Pet Insurance', 'cover', 'khaki', 'blood', 'strip', 'Celebrity Scandal', 'crosses', 'sings', 'crates', 'displays', 'birds', 'frame', 'dirt', 'individuals', 'barefoot', 'Vaccines', '26', 'ball', 'pieces', 'intersection', 'camera', 'fall', 'Polar Travel', 'site', 'can', 'gather', 'written', 'main', 'yoga', 'burgundy', 'direction', 'overalls', 'Hinduism', 'office', 'descent', 'strike', 'first', 'hooping', 'sleep', 'instructor', 'lines', 'Celebrity Pregnancy', 'runs', 'arcade', 'sign', 'moment', 'kick', 'day', 'bikers', 'Financial Planning', 'picks', 'Museums & Galleries', 'Hatchback', 'ceremony', '39', 'machinery', 'bowler', 'flaming', 'french', 'horizon', 'us', 'Metals Industry', 'pilot', 'asleep', 'making', 'chalk', \"Women's Fashion\", 'for', 'acting', 'branches', 'Beach Travel', 'league', 'Holiday', 'golfer', 'sparks', 'town', '12', 'street', 'gymnast', 'formation', 'bunny', 'next', 'excited', 'leads', 'sprays', 'where', 'mexican', 'laugh', 'owner', 'drive', 'amidst', 'Variety (Music and Audio)', 'hug', 'asia', 'identical', 'green', 'Bankruptcy', 'Consumer Issues', 'suspenders', 'past', \"Women's Glasses\", 'friends', 'smoke', 'Comedy', 'Horror', 'races', 'bicyclist', 'begins', 'neighborhood', 'tries', 'design', '20', 'couple', 'woods', 'Baseball', 'carving', 'morning', 'speed', 'logo', 'firefighters', 'facial', 'Injuries', 'tunnel', 'cape', 'stance', 'Dining Out', 'Summer Olympic Sports', 'only', 'festival', 'flowered', 'sniffing', 'ingredients', 'window', 'Personal Loans', 'bar', 'carrying', 'tourist', 'whom', 'Soundtracks, TV and Showtunes', 'digging', 'post', 'baton', 'chest', 'surround', 'pulled', 'mom', 'still', 'farm', 'racer', '3', 'air', 'handed', 'Entertainment Industry', 'Flower Shopping', 'hits', 'sporting', 'crane', 'cobblestone', 'playground', 'R&B/Soul/Funk', 'center', 'dragging', 'American Football', 'sand', 'pile', 'doing', 'eyed', 'fish', 'butterfly', 'grabbing', 'Dogs', 'band', 'special', 'dancers', 'landing', 'Rugby', 'cheerleader', 'Death, Injury, or Military Conflict', 'painter', 'electronic', 'Contemporary Hits/Pop/Top 40', 'number', 'store', 'bamboo', 'follows', 'bite', 'jersey', 'repair', 'rod', 'mouse', 'contents', 'stones', 'synchronized', 'animal', 'Remote Working', 'bus', 'types', 'shining', 'score', 'repairs', 'stick', 'boys', 'competing', 'Auto Infotainment Technologies', 'skiing', 'four', 'bridge', 'level', 'tossing', 'Nutrition', 'hay', 'tarp', 'meat', 'Medical Health', 'Endocrine and Metabolic Diseases', 'driven', 'Content Production', 'pigeons', 'mowing', 'valley', 'dinner', 'midst', 'cheese', 'goods', 'living', 'auditorium', 'feeding', 'Credit Cards', 'lobby', 'hole', 'early', 'mobile', 'grab', 'staring', 'bottles', 'Sales and Promotions', 'stopped', 'fallen', 'quickly', 'Apparel Industry', 'turned', 'purchase', 'Design', 'playfully', 'behind', 'polo', 'Travel Locations', '22', 'creating', 'jackets', 'preparing', 'be', 'hips', 'Auto Buying and Selling', 'teammate', 'foreground', 'married', 'tank', 'egg', 'Field Hockey', 'beautiful', 'figure', 'surfer', 'cattle', 'sidelines', 'without', 'Beadwork', 'laying', 'shepherd', 'Young Adult', 'Travel Insurance', 'Environmental Services Industry', 'bay', 'listens', 'Gymnastics', 'highway', 'apart', 'dough', 'sheets', 'travel', 'competition', 'tents', 'batman', 'instruments', 'them', 'closely', 'bride', 'floors', 'pizza', 'motorcycle', 'beige', 'overhead', 'shirts', 'Retail Industry', 'face', 'temple', 'bottoms', 'notes', 'used', 'Financial Reform', 'rickshaw', 'logs', 'says', 'tall', 'thumb', 'bib', 'party', 'Table Tennis', 'come', '2', 'wiping', 'fence', 'beneath', 'ear', 'movie', 'collar', 'hospital', 'Heart and Cardiovascular Diseases', 'patch', 'riding', 'Western', 'speaks', 'hockey', 'cow', 'compete', 'working', 'rodeo', 'black', 'guards', 'leading', 'bungee', 'skinny', 'Digital Arts', 'greenery', 'bartender', 'Documentary', 'cafe', 'project', '34', 'sandwich', 'trench', 'with', 'sit', 'deck', 'uniforms', 'Phone Services', 'photographs', 'wears', 'houses', 'wire', 'lifts', 'roadside', 'engine', 'sport', 'Horse Racing', 'socks', 'one', 'cooks', 'video', 'whistle', 'artists', 'College Radio', 'Internet for Beginners', 'barrel', 'structure', 'salon', 'blowing', 'Certified Pre-Owned Cars', 'frisbee', 'teeth', 'circle', 'leather', 'boardwalk', 'shop', 'Vacation Properties', 'racetrack', 'Sexual Health', 'safety', 'biker', 'giving', 'caution', 'Reality TV', 'brass', 'Marriage and Civil Unions', 'backwards', 'distance', 'bicycles', 'experiment', 'across', 'ethnic', 'ornate', 'box', 'stop', 'start', 'hold', 'soldiers', 'officers', 'uphill', 'machines', 'haircut', 'dig', 'shoppers', 'awning', 'native', 'pocket', 'policeman', 'Online Education', 'pole', 'Legal Services Industry', 'liquid', 'rails', 'firetruck', 'stoop', 'lens', 'table', 'horn', 'bag', 'leaves', 'groups', 'Card Games', 'male', 'leaf', 'shovel', 'china', 'amid', 'around', 'far', 'thin', 'hurdles', 'dead', 'picker', '16', 'maroon', 'product', 'Internet of Things', 'directly', 'deep', 'ordering', 'Industries', 'Venture Capital', 'sled', 'tablecloth', 'olympics', 'hangs', 'Ice Hockey', 'gallery', 'pinata', 'Softball', 'spotlight', 'ice', 'rubber', 'pipe', 'roses', 'boy', 'hispanic', 'man', 'teenage', 'pulls', 'camp', 'robe', 'event', 'covering', 'flower', 'Private School', 'Deodorant and Antiperspirant', 'dirty', 'Blues', 'Auto Body Styles', 'Nature', 'fixes', 'castle', 'Lacrosse', 'bikini', 'Remodeling & Construction', 'figures', 'kneeling', 'speech', 'ducks', 'splashing', 'papers', 'Virtual Reality', 'Honeymoons and Getaways', 'arts', 'scarf', 'railroad', 'love', 'performers', 'jumped', 'Brain and Nervous System Disorders', 'suv', 'robes', 'hiker', 'pipes', 'eight', 'upward', 'studio', 'surgery', 'corner', 'female', 'balance', 'placing', 'cows', 'canopy', 'human', 'craft', 'outstretched', 'electrical', 'aprons', 'raise', 'celebration', 'Action Video Games', 'Options', 'check', 'Health Insurance', 'kissing', 'Climbing', 'Senior Health', 'Adoption and Fostering', 'Politics', 'paddles', 'Comedy (Music and Audio)', 'headband', 'what', 'fair', 'pushes', 'themselves', 'rugby', 'aqua', 'Birds', 'colorful', 'bundled', 'Hard Rock', 'on', 'rink', 'bucking', 'cola', 'teams', 'big', 'Books and Literature', 'clock', 'Bed & Breakfasts', 'canadian', 'shopping', 'cheek', 'Puzzle Video Games', 'Day Trips', 'arms', 'laughing', 'harvesting', 'Auto Insurance', 'late', 'indian', 'Scooters', 'rough', 'seem', 'very', 'unique', 'located', 'doors', 'ping', \"Men's Casual Wear\", 'juice', 'Romance', 'Magic and Illusion', 'passed', 'showing', 'part', 'artwork', '47', 'furry', 'Auto Technology', 'bucket', 'collection', 'wash', 'parachute', 'magazine', 'gate', 'Auto Safety Technologies', 'outdoors', 'target', 'engaged', 'piano', 'paint', 'injured', 'Frugal Living', 'round', 'attempts', 'fit', 'college', 'smiles', 'snack', 'Van', 'snowshoes', 'Rail Travel', 'tiny', 'holiday', 'letters', 'forest', 'frozen', 'flute', 'Job Fairs', 'pulling', 'lab', 'sailing', 'bubble', 'mixed', 'banner', 'curly', 'information', 'stare', 'cane', 'Winter Olympic Sports', 'throw', 'Web Hosting', 'Opera', 'conversing', 'Graduation', 'companion', 'stone', 'shoots', 'read', 'themed', 'bleachers', 'vacuuming', 'hula', 'routine', 'Life Insurance', 'touch', 'mounted', 'against', 'Professional School', 'tricks', '21', 'tutu', 'hunched', 'village', 'shot', 'london', 'cop', 'Hedge Funds'}\n",
      "CPU times: total: 0 ns\n",
      "Wall time: 3.97 ms\n"
     ]
    }
   ],
   "source": [
    "%%time\n",
    "\n",
    "print(set(embeddings_index.keys())^set(tier0.unique()))"
   ]
  },
  {
   "cell_type": "code",
   "execution_count": 61,
   "metadata": {},
   "outputs": [
    {
     "name": "stdout",
     "output_type": "stream",
     "text": [
      "File written successfully\n",
      "attractions found in glove\n",
      "automotive found in glove\n",
      "books found in glove\n",
      "and found in glove\n",
      "literature found in glove\n",
      "business found in glove\n",
      "and found in glove\n",
      "finance found in glove\n",
      "careers found in glove\n",
      "communication found in glove\n",
      "crime found in glove\n",
      "disasters found in glove\n",
      "education found in glove\n",
      "entertainment found in glove\n",
      "events found in glove\n",
      "family found in glove\n",
      "and found in glove\n",
      "relationships found in glove\n",
      "fine found in glove\n",
      "art found in glove\n",
      "food found in glove\n",
      "& found in glove\n",
      "drink found in glove\n",
      "genres found in glove\n",
      "healthy found in glove\n",
      "living found in glove\n",
      "hobbies found in glove\n",
      "& found in glove\n",
      "interests found in glove\n",
      "holidays found in glove\n",
      "home found in glove\n",
      "& found in glove\n",
      "garden found in glove\n",
      "law found in glove\n",
      "maps found in glove\n",
      "& found in glove\n",
      "navigation found in glove\n",
      "medical found in glove\n",
      "health found in glove\n",
      "music found in glove\n",
      "personal found in glove\n",
      "celebrations found in glove\n",
      "& found in glove\n",
      "life found in glove\n",
      "events found in glove\n",
      "personal found in glove\n",
      "finance found in glove\n",
      "pets found in glove\n",
      "politics found in glove\n",
      "pop found in glove\n",
      "culture found in glove\n",
      "productivity found in glove\n",
      "real found in glove\n",
      "estate found in glove\n",
      "religion found in glove\n",
      "& found in glove\n",
      "spirituality found in glove\n",
      "science found in glove\n",
      "sensitive found in glove\n",
      "topics found in glove\n",
      "shopping found in glove\n",
      "sports found in glove\n",
      "style found in glove\n",
      "& found in glove\n",
      "fashion found in glove\n",
      "technology found in glove\n",
      "& found in glove\n",
      "computing found in glove\n",
      "travel found in glove\n",
      "video found in glove\n",
      "gaming found in glove\n",
      "war found in glove\n",
      "and found in glove\n",
      "conflicts found in glove\n",
      "Covered: 74\n",
      "NOT Covered: 0\n"
     ]
    }
   ],
   "source": [
    "t0 = [t.lower() for t in tier1.unique()] \n",
    "# open file\n",
    "with open('tier1.txt', 'w+') as f:\n",
    "     \n",
    "    # write elements of list\n",
    "    for items in t0:\n",
    "        f.write('%s\\n' %items)\n",
    "     \n",
    "    print(\"File written successfully\")\n",
    " \n",
    " \n",
    "# close the file\n",
    "f.close()\n",
    "covered = []\n",
    "not_covered = []\n",
    "for t in t0:\n",
    "    tokens = word_tokenize(t)\n",
    "    for tkn in tokens:\n",
    "        if tkn in embeddings_index_all.keys():\n",
    "            print(f'{tkn} found in glove')\n",
    "            covered.append(tkn)\n",
    "        else:\n",
    "            print(f'{tkn} IS NOT in glove')\n",
    "            not_covered.append(tkn)\n",
    "print(f'Covered: {len(covered)}')\n",
    "print(f'NOT Covered: {len(not_covered)}')"
   ]
  },
  {
   "cell_type": "code",
   "execution_count": 55,
   "metadata": {},
   "outputs": [],
   "source": [
    "def cosine_distance_between_two_words(word1, word2):\n",
    "    import scipy\n",
    "    return (1- scipy.spatial.distance.cosine(embeddings_index_all[word1], embeddings_index_all[word2]))"
   ]
  },
  {
   "cell_type": "code",
   "execution_count": 63,
   "metadata": {},
   "outputs": [
    {
     "data": {
      "text/plain": [
       "0.27324068546295166"
      ]
     },
     "execution_count": 63,
     "metadata": {},
     "output_type": "execute_result"
    }
   ],
   "source": [
    "cosine_distance_between_two_words('man','spider')"
   ]
  },
  {
   "cell_type": "code",
   "execution_count": 70,
   "metadata": {},
   "outputs": [
    {
     "name": "stderr",
     "output_type": "stream",
     "text": [
      "ffmpeg could not be found on the system. Please install ffmpeg to enable video output support.\n"
     ]
    },
    {
     "data": {
      "text/plain": [
       "0"
      ]
     },
     "execution_count": 70,
     "metadata": {},
     "output_type": "execute_result"
    }
   ],
   "source": [
    "from scenedetect import detect, AdaptiveDetector, split_video_ffmpeg\n",
    "scene_list = detect('sample.mp4', AdaptiveDetector())\n",
    "split_video_ffmpeg('sample.mp4', scene_list)\n",
    "\n"
   ]
  },
  {
   "cell_type": "code",
   "execution_count": null,
   "metadata": {},
   "outputs": [],
   "source": []
  }
 ],
 "metadata": {
  "kernelspec": {
   "display_name": "dl",
   "language": "python",
   "name": "python3"
  },
  "language_info": {
   "codemirror_mode": {
    "name": "ipython",
    "version": 3
   },
   "file_extension": ".py",
   "mimetype": "text/x-python",
   "name": "python",
   "nbconvert_exporter": "python",
   "pygments_lexer": "ipython3",
   "version": "3.10.13"
  }
 },
 "nbformat": 4,
 "nbformat_minor": 2
}
